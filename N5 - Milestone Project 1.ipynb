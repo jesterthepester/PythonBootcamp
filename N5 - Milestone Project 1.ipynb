{
 "cells": [
  {
   "cell_type": "markdown",
   "id": "7f2069f5",
   "metadata": {},
   "source": [
    "# L60 - Display Information"
   ]
  },
  {
   "cell_type": "code",
   "execution_count": 1,
   "id": "3f2b835d",
   "metadata": {},
   "outputs": [
    {
     "name": "stdout",
     "output_type": "stream",
     "text": [
      "[1, 2, 3]\n"
     ]
    }
   ],
   "source": [
    "print([1,2,3])"
   ]
  },
  {
   "cell_type": "code",
   "execution_count": 2,
   "id": "8294e31b",
   "metadata": {},
   "outputs": [
    {
     "name": "stdout",
     "output_type": "stream",
     "text": [
      "[1, 2, 3]\n",
      "[4, 5, 6]\n",
      "[7, 8, 9]\n"
     ]
    }
   ],
   "source": [
    "print([1,2,3])\n",
    "print([4,5,6])\n",
    "print([7,8,9])"
   ]
  },
  {
   "cell_type": "code",
   "execution_count": 4,
   "id": "95196d1a",
   "metadata": {},
   "outputs": [],
   "source": [
    "def display(row1,row2,row3):\n",
    "    print(row1)\n",
    "    print(row2)\n",
    "    print(row3)"
   ]
  },
  {
   "cell_type": "code",
   "execution_count": 6,
   "id": "6f3d845a",
   "metadata": {},
   "outputs": [],
   "source": [
    "row1 = [' ',' ',' ']\n",
    "row2 = [' ',' ',' ']\n",
    "row3 = [' ',' ',' ']"
   ]
  },
  {
   "cell_type": "code",
   "execution_count": 9,
   "id": "f8682b8c",
   "metadata": {},
   "outputs": [
    {
     "name": "stdout",
     "output_type": "stream",
     "text": [
      "[' ', ' ', ' ']\n",
      "[' ', 'X', ' ']\n",
      "[' ', ' ', ' ']\n"
     ]
    }
   ],
   "source": [
    "display(row1,row2,row3)"
   ]
  },
  {
   "cell_type": "code",
   "execution_count": 8,
   "id": "9147e555",
   "metadata": {},
   "outputs": [],
   "source": [
    "row2[1] = 'X'"
   ]
  },
  {
   "cell_type": "markdown",
   "id": "106cecfd",
   "metadata": {},
   "source": [
    "# L61 - Accepting User Input\n",
    "Input functions always return strings by default"
   ]
  },
  {
   "cell_type": "code",
   "execution_count": 11,
   "id": "cb0bae2c",
   "metadata": {},
   "outputs": [
    {
     "name": "stdout",
     "output_type": "stream",
     "text": [
      "Please enter a value: 2\n"
     ]
    }
   ],
   "source": [
    "result = input(\"Please enter a value: \")"
   ]
  },
  {
   "cell_type": "code",
   "execution_count": 13,
   "id": "28014207",
   "metadata": {},
   "outputs": [
    {
     "data": {
      "text/plain": [
       "str"
      ]
     },
     "execution_count": 13,
     "metadata": {},
     "output_type": "execute_result"
    }
   ],
   "source": [
    "type(result)"
   ]
  },
  {
   "cell_type": "code",
   "execution_count": 14,
   "id": "cea6f5b6",
   "metadata": {},
   "outputs": [
    {
     "name": "stdout",
     "output_type": "stream",
     "text": [
      "Please enter a value: 2\n"
     ]
    }
   ],
   "source": [
    "result = int(input(\"Please enter a value: \"))"
   ]
  },
  {
   "cell_type": "code",
   "execution_count": 15,
   "id": "271088a3",
   "metadata": {},
   "outputs": [
    {
     "data": {
      "text/plain": [
       "int"
      ]
     },
     "execution_count": 15,
     "metadata": {},
     "output_type": "execute_result"
    }
   ],
   "source": [
    "type(result)"
   ]
  },
  {
   "cell_type": "markdown",
   "id": "ce80c9b8",
   "metadata": {},
   "source": [
    "# L62 - Vlaidating User Input"
   ]
  },
  {
   "cell_type": "code",
   "execution_count": 16,
   "id": "e88502e1",
   "metadata": {},
   "outputs": [],
   "source": [
    "def user_choice():\n",
    "    \n",
    "    choice = input(\"Please enter a number (0-10): \")\n",
    "    \n",
    "    return int(choice)"
   ]
  },
  {
   "cell_type": "code",
   "execution_count": 19,
   "id": "bf14756b",
   "metadata": {},
   "outputs": [
    {
     "name": "stdout",
     "output_type": "stream",
     "text": [
      "Please enter a number (0-10): 30\n"
     ]
    },
    {
     "data": {
      "text/plain": [
       "30"
      ]
     },
     "execution_count": 19,
     "metadata": {},
     "output_type": "execute_result"
    }
   ],
   "source": [
    "user_choice()"
   ]
  },
  {
   "cell_type": "code",
   "execution_count": 20,
   "id": "f09191e2",
   "metadata": {},
   "outputs": [],
   "source": [
    "def user_choice():\n",
    "    \n",
    "    choice = 'WRONG'\n",
    "    \n",
    "    while choice.isdigit() == False:\n",
    "        \n",
    "        choice = input(\"Please enter a number (0-10): \")\n",
    "    \n",
    "    return int(choice)"
   ]
  },
  {
   "cell_type": "code",
   "execution_count": 21,
   "id": "fa9bad4c",
   "metadata": {},
   "outputs": [],
   "source": [
    "some_value = '100'"
   ]
  },
  {
   "cell_type": "code",
   "execution_count": 22,
   "id": "500811d2",
   "metadata": {},
   "outputs": [
    {
     "data": {
      "text/plain": [
       "True"
      ]
     },
     "execution_count": 22,
     "metadata": {},
     "output_type": "execute_result"
    }
   ],
   "source": [
    "some_value.isdigit()"
   ]
  },
  {
   "cell_type": "code",
   "execution_count": 23,
   "id": "9a4ef1d5",
   "metadata": {},
   "outputs": [
    {
     "data": {
      "text/plain": [
       "100"
      ]
     },
     "execution_count": 23,
     "metadata": {},
     "output_type": "execute_result"
    }
   ],
   "source": [
    "int(some_value)"
   ]
  },
  {
   "cell_type": "code",
   "execution_count": 24,
   "id": "ef6a2cc3",
   "metadata": {},
   "outputs": [],
   "source": [
    "def user_choice():\n",
    "    \n",
    "    choice = 'WRONG'\n",
    "    \n",
    "    while choice.isdigit() == False:\n",
    "        choice = input(\"Please enter a number (0-10): \")\n",
    "        if choice.isdigit() == False:\n",
    "            print('Sorry, that is not a digit!')\n",
    "        \n",
    "    return int(choice)"
   ]
  },
  {
   "cell_type": "code",
   "execution_count": 25,
   "id": "cd89decc",
   "metadata": {},
   "outputs": [
    {
     "name": "stdout",
     "output_type": "stream",
     "text": [
      "Please enter a number (0-10): asdf\n",
      "Please enter a number (0-10): asdf\n",
      "Please enter a number (0-10): aerw\n",
      "Please enter a number (0-10): avkk4\n",
      "Please enter a number (0-10): 3\n"
     ]
    },
    {
     "data": {
      "text/plain": [
       "3"
      ]
     },
     "execution_count": 25,
     "metadata": {},
     "output_type": "execute_result"
    }
   ],
   "source": [
    "user_choice()"
   ]
  },
  {
   "cell_type": "code",
   "execution_count": 26,
   "id": "8d8fb7ca",
   "metadata": {},
   "outputs": [],
   "source": [
    "result = 'wrong'"
   ]
  },
  {
   "cell_type": "code",
   "execution_count": 27,
   "id": "09f37fd2",
   "metadata": {},
   "outputs": [],
   "source": [
    "acceptable_values = [0,1,2]"
   ]
  },
  {
   "cell_type": "code",
   "execution_count": 28,
   "id": "02e2fcb3",
   "metadata": {},
   "outputs": [
    {
     "data": {
      "text/plain": [
       "False"
      ]
     },
     "execution_count": 28,
     "metadata": {},
     "output_type": "execute_result"
    }
   ],
   "source": [
    "result in acceptable_values"
   ]
  },
  {
   "cell_type": "code",
   "execution_count": 29,
   "id": "11ac2975",
   "metadata": {},
   "outputs": [
    {
     "data": {
      "text/plain": [
       "True"
      ]
     },
     "execution_count": 29,
     "metadata": {},
     "output_type": "execute_result"
    }
   ],
   "source": [
    "result not in acceptable_values"
   ]
  },
  {
   "cell_type": "code",
   "execution_count": 31,
   "id": "238314cd",
   "metadata": {},
   "outputs": [],
   "source": [
    "def user_choice():\n",
    "    # variables\n",
    "    \n",
    "    # inital\n",
    "    choice = 'WRONG'\n",
    "    acceptable_range = range(0,11)\n",
    "    within_range = False\n",
    "    \n",
    "    # two conditions to check\n",
    "    # digit or within range == false\n",
    "    while choice.isdigit() == False or within_range == False:\n",
    "        \n",
    "        choice = input(\"Please enter a number (0-10): \")\n",
    "        \n",
    "        # digit check\n",
    "        if choice.isdigit() == False:\n",
    "            print('Sorry, that is not a digit!')\n",
    "        \n",
    "        # range check\n",
    "        if choice.isdigit() == True:\n",
    "            if int(choice) in acceptable_range:\n",
    "                within_range = True\n",
    "            else:\n",
    "                within_range = False\n",
    "                print('Digit not within range')\n",
    "    return int(choice)"
   ]
  },
  {
   "cell_type": "code",
   "execution_count": 32,
   "id": "074a67b1",
   "metadata": {},
   "outputs": [
    {
     "name": "stdout",
     "output_type": "stream",
     "text": [
      "Please enter a number (0-10): 11\n",
      "Digit not within range\n",
      "Please enter a number (0-10): 10\n"
     ]
    },
    {
     "data": {
      "text/plain": [
       "10"
      ]
     },
     "execution_count": 32,
     "metadata": {},
     "output_type": "execute_result"
    }
   ],
   "source": [
    "user_choice()"
   ]
  },
  {
   "cell_type": "markdown",
   "id": "be46a14e",
   "metadata": {},
   "source": [
    "# L63 - Simple User Information"
   ]
  },
  {
   "cell_type": "code",
   "execution_count": 12,
   "id": "261580b4",
   "metadata": {},
   "outputs": [
    {
     "name": "stdout",
     "output_type": "stream",
     "text": [
      "Here is the current list: \n",
      "[0, 1, 2]\n",
      "Pick a position (0,1,2): 0\n",
      "Type a string to place at position: 1\n",
      "Here is the current list: \n",
      "['1', 1, 2]\n",
      "Keep playing? (Y or N): N\n"
     ]
    }
   ],
   "source": [
    "# global variables\n",
    "game_list = [0,1,2]\n",
    "game_on = True\n",
    "\n",
    "# overall game logic\n",
    "while game_on:\n",
    "    display_game(game_list)\n",
    "    position = position_choice()\n",
    "    game_list = replacement_value(game_list,position)\n",
    "    display_game(game_list)\n",
    "    game_on = gameon_choice()\n",
    "\n",
    "# game display\n",
    "def display_game(game_list):\n",
    "    print('Here is the current list: ')\n",
    "    print(game_list)\n",
    "\n",
    "# selecting the position\n",
    "def position_choice():\n",
    "    choice = 'wrong'\n",
    "    while choice not in ['0','1','2']:\n",
    "        choice = input('Pick a position (0,1,2): ')\n",
    "        if choice not in ['0','1','2']:\n",
    "            print('Sorry, invalid choice')\n",
    "    return int(choice)\n",
    "\n",
    "# replacement input\n",
    "def replacement_value(game_list,position):\n",
    "    user_placement = input('Type a string to place at position: ')\n",
    "    game_list[position] = user_placement\n",
    "    return game_list\n",
    "\n",
    "# game on option\n",
    "def gameon_choice():\n",
    "    gchoice = 'wrong'\n",
    "    while gchoice not in ['Y','N']:\n",
    "        gchoice = input('Keep playing? (Y or N): ')\n",
    "        if gchoice not in ['Y','N']:\n",
    "            print('Sorry, invalid choice. Please chose Y or N')\n",
    "    if gchoice == 'Y':\n",
    "        return True\n",
    "    else:\n",
    "        return False"
   ]
  }
 ],
 "metadata": {
  "kernelspec": {
   "display_name": "Python 3",
   "language": "python",
   "name": "python3"
  },
  "language_info": {
   "codemirror_mode": {
    "name": "ipython",
    "version": 3
   },
   "file_extension": ".py",
   "mimetype": "text/x-python",
   "name": "python",
   "nbconvert_exporter": "python",
   "pygments_lexer": "ipython3",
   "version": "3.8.8"
  }
 },
 "nbformat": 4,
 "nbformat_minor": 5
}
